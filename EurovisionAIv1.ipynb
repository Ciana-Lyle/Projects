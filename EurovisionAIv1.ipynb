{
 "cells": [
  {
   "cell_type": "code",
   "execution_count": 1,
   "id": "d3f90ccd-648a-4825-9e0d-d159ad98299f",
   "metadata": {},
   "outputs": [],
   "source": [
    "import pandas as pd\n",
    "from sklearn.model_selection import train_test_split\n",
    "from sklearn.preprocessing import OneHotEncoder\n",
    "from sklearn.compose import ColumnTransformer\n",
    "from sklearn.pipeline import Pipeline\n",
    "from sklearn.ensemble import RandomForestRegressor\n",
    "from sklearn.metrics import mean_squared_error"
   ]
  },
  {
   "cell_type": "code",
   "execution_count": 3,
   "id": "ff82ae8a-cd47-4ef1-8c3f-3c2c29e3c2c1",
   "metadata": {},
   "outputs": [],
   "source": [
    "df = pd.read_excel(\"EurovisionHistory.xlsx\")"
   ]
  },
  {
   "cell_type": "code",
   "execution_count": 5,
   "id": "07a77a38-a9d7-45b3-939e-7e79ecb93086",
   "metadata": {},
   "outputs": [],
   "source": [
    "X = df[[\"Year\",\"Country\",\"Genre\"]]\n",
    "y = df[\"Placement\"]"
   ]
  },
  {
   "cell_type": "code",
   "execution_count": 7,
   "id": "4b078359-0ed0-40b8-a5c0-bd904ebff4d7",
   "metadata": {},
   "outputs": [],
   "source": [
    "X_train, X_test, y_train, y_test = train_test_split(X,y,test_size=.2, random_state=42)"
   ]
  },
  {
   "cell_type": "code",
   "execution_count": 9,
   "id": "c5fc27a2-631e-45f0-ac52-1b8ecd81027e",
   "metadata": {},
   "outputs": [],
   "source": [
    "model = Pipeline(steps=[\n",
    "    ('preprocessor', ColumnTransformer(\n",
    "        transformers=[\n",
    "            ('Year', 'passthrough', ['Year']),\n",
    "            ('Country', OneHotEncoder(handle_unknown='ignore'), ['Country']),\n",
    "            ('Genre', OneHotEncoder(handle_unknown='ignore'), ['Genre'])\n",
    "        ])),\n",
    "    ('regressor', RandomForestRegressor(n_estimators=100, random_state=42))\n",
    "])"
   ]
  },
  {
   "cell_type": "code",
   "execution_count": 11,
   "id": "02ac32a6-1667-481c-9b94-9df2b2f0648b",
   "metadata": {},
   "outputs": [],
   "source": [
    "model.fit(X_train,y_train)\n",
    "y_pred = model.predict(X_test)"
   ]
  },
  {
   "cell_type": "code",
   "execution_count": 13,
   "id": "8b6280c7-ba3b-44eb-8c4f-0b0abac980a2",
   "metadata": {},
   "outputs": [
    {
     "name": "stdout",
     "output_type": "stream",
     "text": [
      "Mean Squared Error: 135.2362357142857\n"
     ]
    }
   ],
   "source": [
    "mse = mean_squared_error(y_test,y_pred)\n",
    "print(f\"Mean Squared Error: {mse}\")"
   ]
  },
  {
   "cell_type": "code",
   "execution_count": 15,
   "id": "f205bca6-63e9-499e-91f3-07d0bb533c4d",
   "metadata": {},
   "outputs": [],
   "source": [
    "import numpy as np\n",
    "def get_user_input():\n",
    "    Country = input(\"Please enter a country: \")\n",
    "    Year = int(input(\"Please enter a year: \"))\n",
    "    Genre = input(\"Please enter a genre: \")\n",
    "\n",
    "    # Return as a DataFrame\n",
    "    user_input = pd.DataFrame([[Year, Country, Genre]], columns=['Year', 'Country', 'Genre'])\n",
    "    return user_input"
   ]
  },
  {
   "cell_type": "code",
   "execution_count": 17,
   "id": "f5c18824-9adc-401e-b2ab-4920316543b7",
   "metadata": {},
   "outputs": [],
   "source": [
    "def make_prediction(model):\n",
    "    user_input = get_user_input()\n",
    "\n",
    "    # Use the model pipeline to make predictions directly\n",
    "    prediction = model.predict(user_input)\n",
    "\n",
    "    # Display the predicted placement\n",
    "    print(f\"Here is the predicted placement: {prediction[0]}\")"
   ]
  },
  {
   "cell_type": "code",
   "execution_count": 27,
   "id": "96642b2e-a158-4fb8-a16e-365e98d1b248",
   "metadata": {},
   "outputs": [
    {
     "name": "stdin",
     "output_type": "stream",
     "text": [
      "Please enter a country:  France\n",
      "Please enter a year:  2025\n",
      "Please enter a genre:  ballad\n"
     ]
    },
    {
     "name": "stdout",
     "output_type": "stream",
     "text": [
      "Here is the predicted placement: 14.52\n"
     ]
    }
   ],
   "source": [
    "make_prediction(model)"
   ]
  },
  {
   "cell_type": "code",
   "execution_count": null,
   "id": "083f7fc0-a3a2-436b-bf66-7c7b87d260bb",
   "metadata": {},
   "outputs": [],
   "source": []
  }
 ],
 "metadata": {
  "kernelspec": {
   "display_name": "Python [conda env:base] *",
   "language": "python",
   "name": "conda-base-py"
  },
  "language_info": {
   "codemirror_mode": {
    "name": "ipython",
    "version": 3
   },
   "file_extension": ".py",
   "mimetype": "text/x-python",
   "name": "python",
   "nbconvert_exporter": "python",
   "pygments_lexer": "ipython3",
   "version": "3.12.7"
  }
 },
 "nbformat": 4,
 "nbformat_minor": 5
}
